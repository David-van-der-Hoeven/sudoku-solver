{
 "cells": [
  {
   "cell_type": "markdown",
   "id": "f66a3b6c",
   "metadata": {},
   "source": [
    "# Sudoku solving\n",
    "Script to solve sudokus, without using any imported modules. "
   ]
  },
  {
   "cell_type": "code",
   "execution_count": 1,
   "id": "9c04e24c",
   "metadata": {},
   "outputs": [],
   "source": [
    "sudoku_1 = [\n",
    "        [0, 0, 2, 0, 0, 0, 0, 0, 5],\n",
    "        [3, 0, 0, 0, 5, 6, 0, 0, 0],\n",
    "        [1, 8, 5, 0, 4, 2, 6, 7, 3],\n",
    "\n",
    "        [0, 0, 0, 0, 0, 8, 7, 6, 0],\n",
    "        [0, 0, 9, 7, 0, 0, 3, 0, 0],\n",
    "        [8, 0, 7, 0, 0, 1, 0, 0, 9],\n",
    "\n",
    "        [0, 9, 6, 2, 8, 3, 0, 1, 7],\n",
    "        [2, 0, 8, 0, 0, 0, 0, 0, 6],\n",
    "        [0, 5, 3, 0, 0, 9, 8, 2, 0]\n",
    "    ]\n",
    "\n",
    "sudoku_2 = [\n",
    "        [0, 0, 7, 0, 0, 1, 0, 0, 5],\n",
    "        [0, 0, 5, 4, 0, 0, 3, 7, 1],\n",
    "        [0, 0, 0, 0, 0, 0, 4, 8, 0],\n",
    "\n",
    "        [0, 0, 0, 7, 9, 0, 8, 0, 2],\n",
    "        [0, 9, 0, 0, 0, 0, 0, 3, 0],\n",
    "        [2, 0, 3, 0, 8, 5, 0, 0, 0],\n",
    "\n",
    "        [0, 8, 4, 0, 0, 0, 0, 0, 0],\n",
    "        [7, 5, 2, 0, 0, 4, 6, 0, 0],\n",
    "        [1, 0, 0, 2, 0, 0, 7, 0, 0]\n",
    "    ]"
   ]
  },
  {
   "cell_type": "markdown",
   "id": "a3158ccb",
   "metadata": {},
   "source": [
    "## Validate numbers\n",
    "A function to check if a number may be assigned to a position"
   ]
  },
  {
   "cell_type": "code",
   "execution_count": 2,
   "id": "81aa3109",
   "metadata": {},
   "outputs": [],
   "source": [
    "def valid_number(game, number, col, row, diagonal = True):\n",
    "    \n",
    "    ## Checking the columns\n",
    "    column_numbers = [game.board[i][col] for i in range(len(game.board))]\n",
    "    #print(column_numbers)\n",
    "    if number in column_numbers:\n",
    "        return False\n",
    "    \n",
    "    ## Checking the rows\n",
    "    row_numbers = [game.board[row][i] for i in range(len(game.board))]\n",
    "    if number in row_numbers:\n",
    "        return False    \n",
    "    \n",
    "    ## Checking the box\n",
    "    box_list = []\n",
    "    box_col = int(col) // 3\n",
    "    box_row = int(row) // 3\n",
    "    board_y = 3 * box_col\n",
    "    board_x = 3 * box_row\n",
    "    for n in range(3):\n",
    "        x_coord = board_x + n\n",
    "        numbers_in_row = game.board[x_coord][board_y:board_y+3]\n",
    "        for box_number in numbers_in_row:\n",
    "            box_list.append(box_number)\n",
    "    if number in box_list:\n",
    "        return False\n",
    "    \n",
    "    return True"
   ]
  },
  {
   "cell_type": "markdown",
   "id": "fec162b4",
   "metadata": {},
   "source": []
  },
  {
   "cell_type": "code",
   "execution_count": 3,
   "id": "4deb4416",
   "metadata": {},
   "outputs": [],
   "source": [
    "def solve_sudoku(game):\n",
    "    # loop over each row\n",
    "    for row_number, row in enumerate(game.board):\n",
    "        # loop over each value in the row\n",
    "        for col_number, col in enumerate(row):\n",
    "            if col == 0:\n",
    "                # loop through all possibilities\n",
    "                for n in range(1,10):\n",
    "                    #detect possible number\n",
    "                    if valid_number(game, n, col_number, row_number):\n",
    "                        #assign number\n",
    "                        game.board[row_number][col_number] = n\n",
    "                        \n",
    "                        # recursively call function with the object as a parameter, if True is returned, the recursion ends\n",
    "                        if solve_sudoku(game):\n",
    "                            return True\n",
    "                    # if n is not a valid number, assign 0\n",
    "                    game.board[row_number][col_number] = 0\n",
    "                return False\n",
    "    # if no more 0 can be found, end the recursion\n",
    "    return True      "
   ]
  },
  {
   "cell_type": "markdown",
   "id": "f33b64c9",
   "metadata": {},
   "source": [
    "## Sudoku game class\n",
    "Creating a sudoku game class "
   ]
  },
  {
   "cell_type": "code",
   "execution_count": 4,
   "id": "b8dac1cc",
   "metadata": {
    "scrolled": true
   },
   "outputs": [],
   "source": [
    "class sudoku_game:\n",
    "        \n",
    "    def __init__(self, diagonal, board):\n",
    "        self.diagonal = diagonal\n",
    "        self.board = board\n",
    "        self.rows = 'Unvalidated'\n",
    "        \n",
    "    def solve(self):\n",
    "        solve_sudoku(self)\n",
    "        return self.board\n",
    "    \n",
    "    def check_rows(self):\n",
    "        for row_index, row in enumerate(self.board):\n",
    "            for number in row:\n",
    "                if (row.count(number) > 1):\n",
    "                    self.rows = 'Incorrect solution'\n",
    "                    return 'Duplicates in rows'\n",
    "                else:\n",
    "                    self.rows = 'Validated'\n",
    "                    return 'The rows contain no duplicates'"
   ]
  },
  {
   "cell_type": "markdown",
   "id": "115abce2",
   "metadata": {},
   "source": [
    "## Example 1\n",
    "Creating instance of sudoku 1, printing the board"
   ]
  },
  {
   "cell_type": "code",
   "execution_count": 5,
   "id": "5ceb3360",
   "metadata": {
    "scrolled": true
   },
   "outputs": [
    {
     "data": {
      "text/plain": [
       "[[0, 0, 2, 0, 0, 0, 0, 0, 5],\n",
       " [3, 0, 0, 0, 5, 6, 0, 0, 0],\n",
       " [1, 8, 5, 0, 4, 2, 6, 7, 3],\n",
       " [0, 0, 0, 0, 0, 8, 7, 6, 0],\n",
       " [0, 0, 9, 7, 0, 0, 3, 0, 0],\n",
       " [8, 0, 7, 0, 0, 1, 0, 0, 9],\n",
       " [0, 9, 6, 2, 8, 3, 0, 1, 7],\n",
       " [2, 0, 8, 0, 0, 0, 0, 0, 6],\n",
       " [0, 5, 3, 0, 0, 9, 8, 2, 0]]"
      ]
     },
     "execution_count": 5,
     "metadata": {},
     "output_type": "execute_result"
    }
   ],
   "source": [
    "sudoku_game_1 = sudoku_game(True, sudoku_1)\n",
    "sudoku_game_1.board"
   ]
  },
  {
   "cell_type": "markdown",
   "id": "d974c6a6",
   "metadata": {},
   "source": [
    "## Solved number 1\n",
    "Sudoku 1 is solved and printed"
   ]
  },
  {
   "cell_type": "code",
   "execution_count": 6,
   "id": "2fef7c63",
   "metadata": {},
   "outputs": [
    {
     "data": {
      "text/plain": [
       "[[9, 6, 2, 8, 3, 7, 1, 4, 5],\n",
       " [3, 7, 4, 1, 5, 6, 2, 9, 8],\n",
       " [1, 8, 5, 9, 4, 2, 6, 7, 3],\n",
       " [5, 3, 1, 4, 9, 8, 7, 6, 2],\n",
       " [6, 4, 9, 7, 2, 5, 3, 8, 1],\n",
       " [8, 2, 7, 3, 6, 1, 4, 5, 9],\n",
       " [4, 9, 6, 2, 8, 3, 5, 1, 7],\n",
       " [2, 1, 8, 5, 7, 4, 9, 3, 6],\n",
       " [7, 5, 3, 6, 1, 9, 8, 2, 4]]"
      ]
     },
     "execution_count": 6,
     "metadata": {},
     "output_type": "execute_result"
    }
   ],
   "source": [
    "sudoku_game_1.solve()\n",
    "sudoku_game_1.board"
   ]
  },
  {
   "cell_type": "markdown",
   "id": "15ee4587",
   "metadata": {},
   "source": [
    "## Validation"
   ]
  },
  {
   "cell_type": "code",
   "execution_count": 7,
   "id": "9e5e8c88",
   "metadata": {},
   "outputs": [
    {
     "data": {
      "text/plain": [
       "'The rows contain no duplicates'"
      ]
     },
     "execution_count": 7,
     "metadata": {},
     "output_type": "execute_result"
    }
   ],
   "source": [
    "sudoku_game_1.check_rows()"
   ]
  },
  {
   "cell_type": "markdown",
   "id": "89ed7021",
   "metadata": {},
   "source": [
    "## Example 2\n",
    "Creating instance of sudoku 2, printing the board"
   ]
  },
  {
   "cell_type": "code",
   "execution_count": 8,
   "id": "7ef1d850",
   "metadata": {},
   "outputs": [
    {
     "data": {
      "text/plain": [
       "[[0, 0, 7, 0, 0, 1, 0, 0, 5],\n",
       " [0, 0, 5, 4, 0, 0, 3, 7, 1],\n",
       " [0, 0, 0, 0, 0, 0, 4, 8, 0],\n",
       " [0, 0, 0, 7, 9, 0, 8, 0, 2],\n",
       " [0, 9, 0, 0, 0, 0, 0, 3, 0],\n",
       " [2, 0, 3, 0, 8, 5, 0, 0, 0],\n",
       " [0, 8, 4, 0, 0, 0, 0, 0, 0],\n",
       " [7, 5, 2, 0, 0, 4, 6, 0, 0],\n",
       " [1, 0, 0, 2, 0, 0, 7, 0, 0]]"
      ]
     },
     "execution_count": 8,
     "metadata": {},
     "output_type": "execute_result"
    }
   ],
   "source": [
    "sudoku_game_2 = sudoku_game(False, sudoku_2)\n",
    "sudoku_game_2.board"
   ]
  },
  {
   "cell_type": "markdown",
   "id": "13562df5",
   "metadata": {},
   "source": [
    "## Solved number 2\n",
    "Sudoku 2 is solved and printed"
   ]
  },
  {
   "cell_type": "code",
   "execution_count": 9,
   "id": "4301f31f",
   "metadata": {},
   "outputs": [
    {
     "data": {
      "text/plain": [
       "[[8, 4, 7, 3, 6, 1, 2, 9, 5],\n",
       " [9, 6, 5, 4, 2, 8, 3, 7, 1],\n",
       " [3, 2, 1, 5, 7, 9, 4, 8, 6],\n",
       " [4, 1, 6, 7, 9, 3, 8, 5, 2],\n",
       " [5, 9, 8, 6, 4, 2, 1, 3, 7],\n",
       " [2, 7, 3, 1, 8, 5, 9, 6, 4],\n",
       " [6, 8, 4, 9, 1, 7, 5, 2, 3],\n",
       " [7, 5, 2, 8, 3, 4, 6, 1, 9],\n",
       " [1, 3, 9, 2, 5, 6, 7, 4, 8]]"
      ]
     },
     "execution_count": 9,
     "metadata": {},
     "output_type": "execute_result"
    }
   ],
   "source": [
    "sudoku_game_2.solve()\n",
    "sudoku_game_2.board"
   ]
  },
  {
   "cell_type": "code",
   "execution_count": null,
   "id": "7f9b373d",
   "metadata": {},
   "outputs": [],
   "source": []
  }
 ],
 "metadata": {
  "kernelspec": {
   "display_name": "Python 3 (ipykernel)",
   "language": "python",
   "name": "python3"
  },
  "language_info": {
   "codemirror_mode": {
    "name": "ipython",
    "version": 3
   },
   "file_extension": ".py",
   "mimetype": "text/x-python",
   "name": "python",
   "nbconvert_exporter": "python",
   "pygments_lexer": "ipython3",
   "version": "3.10.2"
  }
 },
 "nbformat": 4,
 "nbformat_minor": 5
}
