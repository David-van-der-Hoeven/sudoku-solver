{
 "cells": [
  {
   "cell_type": "code",
   "execution_count": 1,
   "metadata": {},
   "outputs": [],
   "source": [
    "import openpyxl\n",
    "import os\n",
    "import re\n",
    "from docx import Document"
   ]
  },
  {
   "cell_type": "markdown",
   "metadata": {},
   "source": [
    "## Detect files\n",
    "First recursively detect all files in directories and subdirectories, return all non-directories"
   ]
  },
  {
   "cell_type": "code",
   "execution_count": 2,
   "metadata": {},
   "outputs": [],
   "source": [
    "def lookup_files(path, extension):\n",
    "    file_list = []\n",
    "    def look_in_path(path):\n",
    "        for n in os.listdir(path):\n",
    "            if os.path.isdir(os.path.join(path, n)):\n",
    "                look_in_path(os.path.join(path, n))\n",
    "            else:\n",
    "                file_list.append(os.path.join(path, n))\n",
    "    look_in_path(path)\n",
    "    file_selection = list(filter(lambda x: x.split('.')[-1] == extension, file_list))\n",
    "    return file_selection"
   ]
  },
  {
   "cell_type": "markdown",
   "metadata": {},
   "source": [
    "## Search xlsx file"
   ]
  },
  {
   "cell_type": "code",
   "execution_count": 3,
   "metadata": {},
   "outputs": [],
   "source": [
    "def detect_in_excel_file(excel_sheet, criterium):\n",
    "    wb_obj = openpyxl.load_workbook(excel_sheet)\n",
    "    sheet_obj = wb_obj.active    \n",
    "    for n in sheet_obj.iter_rows():\n",
    "        for y in n:\n",
    "            if y.value == criterium:\n",
    "                print('match found: ' + excel_sheet)\n",
    "                return True"
   ]
  },
  {
   "cell_type": "markdown",
   "metadata": {},
   "source": [
    "## Search docx file"
   ]
  },
  {
   "cell_type": "code",
   "execution_count": 4,
   "metadata": {},
   "outputs": [],
   "source": [
    "def detect_in_word_file(word_file, criterium):\n",
    "    f = open(fr'{word_file}', 'rb')\n",
    "    document = Document(f)\n",
    "    f.close()\n",
    "    output_string = ''\n",
    "    for c in document.paragraphs:\n",
    "        output_string += c.text\n",
    "        if criterium in output_string:\n",
    "            return True"
   ]
  },
  {
   "cell_type": "code",
   "execution_count": 5,
   "metadata": {},
   "outputs": [],
   "source": [
    "def detect_in_text_file(text_file, criterium):\n",
    "    with open(fr'{text_file}', 'r') as text:\n",
    "        text_string = text.read()\n",
    "    if criterium in text_string:\n",
    "        return True"
   ]
  },
  {
   "cell_type": "markdown",
   "metadata": {},
   "source": [
    "## Loop over list\n",
    "Call the excel detection function for each item in the file selection"
   ]
  },
  {
   "cell_type": "code",
   "execution_count": 6,
   "metadata": {},
   "outputs": [],
   "source": [
    "def loop_over_files(file_list, criterium):\n",
    "    \n",
    "    table = {\n",
    "    'xlsx' : detect_in_excel_file,\n",
    "    'docx' : detect_in_word_file,\n",
    "    'txt' : detect_in_text_file\n",
    "    }\n",
    "    \n",
    "    output_list = []\n",
    "    for i in file_list:\n",
    "        if table[i.split('.')[-1]](i, criterium):\n",
    "            output_list.append(i)\n",
    "    return output_list"
   ]
  },
  {
   "cell_type": "markdown",
   "metadata": {},
   "source": [
    "## Input\n"
   ]
  },
  {
   "cell_type": "code",
   "execution_count": 8,
   "metadata": {},
   "outputs": [
    {
     "name": "stdout",
     "output_type": "stream",
     "text": [
      "What is the file type? xlsx/docx/txt ?txt\n",
      "What is the path we're looking in?C:\\Users\\David\\Desktop\\Python\n",
      "What is the value we're looking for?bla\n"
     ]
    }
   ],
   "source": [
    "extension = input('What is the file type? xlsx/docx/txt ?')\n",
    "path = input(\"What is the path we're looking in?\")\n",
    "filter_keyword = input(\"What is the value we're looking for?\")\n",
    "files = lookup_files(path, extension)\n",
    "\n",
    "selection = loop_over_files(files, criterium = filter_keyword)\n",
    "\n",
    "selection"
   ]
  },
  {
   "cell_type": "code",
   "execution_count": null,
   "metadata": {},
   "outputs": [],
   "source": []
  }
 ],
 "metadata": {
  "kernelspec": {
   "display_name": "Python 3 (ipykernel)",
   "language": "python",
   "name": "python3"
  },
  "language_info": {
   "codemirror_mode": {
    "name": "ipython",
    "version": 3
   },
   "file_extension": ".py",
   "mimetype": "text/x-python",
   "name": "python",
   "nbconvert_exporter": "python",
   "pygments_lexer": "ipython3",
   "version": "3.10.2"
  }
 },
 "nbformat": 4,
 "nbformat_minor": 4
}
